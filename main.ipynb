{
 "cells": [
  {
   "cell_type": "code",
   "execution_count": 69,
   "metadata": {},
   "outputs": [],
   "source": [
    "import hilbert\n",
    "\n",
    "x, y = hilbert.genHilbert(4, 4)"
   ]
  },
  {
   "cell_type": "code",
   "execution_count": 71,
   "metadata": {},
   "outputs": [],
   "source": [
    "def genPoint(offsetX,offsetY):\n",
    "    for i in range(16):\n",
    "        x[i]=(x[i]+offsetX)%4\n",
    "    for i in range(16):\n",
    "        y[i]=(y[i]+offsetY)%4\n",
    "    return x,y"
   ]
  },
  {
   "cell_type": "code",
   "execution_count": 72,
   "metadata": {},
   "outputs": [
    {
     "name": "stdout",
     "output_type": "stream",
     "text": [
      "[2, 3, 3, 2, 2, 2, 3, 3, 0, 0, 1, 1, 1, 0, 0, 1]\n",
      "\n",
      "[1, 1, 2, 2, 3, 0, 0, 3, 3, 0, 0, 3, 2, 2, 1, 1]\n"
     ]
    }
   ],
   "source": [
    "x,y=genPoint(2,1)\n",
    "print(x)\n",
    "print()\n",
    "print(y)"
   ]
  },
  {
   "cell_type": "code",
   "execution_count": 3,
   "metadata": {},
   "outputs": [
    {
     "name": "stdout",
     "output_type": "stream",
     "text": [
      "160\n"
     ]
    }
   ],
   "source": [
    "import cv2\n",
    "\n",
    "# image_name = input(\"Enter Cover Image Name: \")\n",
    "image_name = \"lena_gray.bmp\"\n",
    "image = cv2.imread(image_name, 0)\n",
    "\n",
    "# print(image[0][0])"
   ]
  },
  {
   "cell_type": "code",
   "execution_count": null,
   "metadata": {},
   "outputs": [],
   "source": []
  }
 ],
 "metadata": {
  "kernelspec": {
   "display_name": "Python 3.9.1 64-bit",
   "language": "python",
   "name": "python3"
  },
  "language_info": {
   "codemirror_mode": {
    "name": "ipython",
    "version": 3
   },
   "file_extension": ".py",
   "mimetype": "text/x-python",
   "name": "python",
   "nbconvert_exporter": "python",
   "pygments_lexer": "ipython3",
   "version": "3.9.1"
  },
  "orig_nbformat": 4,
  "vscode": {
   "interpreter": {
    "hash": "3efaab7a4ef3a4bcd4f02e96440a9fcf7da7668ad22da6ff108089192f5d1c62"
   }
  }
 },
 "nbformat": 4,
 "nbformat_minor": 2
}
