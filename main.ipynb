{
 "cells": [
  {
   "cell_type": "code",
   "execution_count": null,
   "metadata": {},
   "outputs": [],
   "source": [
    "import hilbert\n",
    "import conversions\n",
    "\n",
    "#includes for genetic\n",
    "import population\n",
    "import psnr\n",
    "import crossover\n"
   ]
  },
  {
   "cell_type": "code",
   "execution_count": null,
   "metadata": {},
   "outputs": [],
   "source": []
  },
  {
   "cell_type": "code",
   "execution_count": null,
   "metadata": {},
   "outputs": [],
   "source": [
    "def genPoint(offsetX,offsetY,x,y):\n",
    "    for i in range(512*512):\n",
    "        x[i]=(x[i]+offsetX)%512\n",
    "    for i in range(512*512):\n",
    "        y[i]=(y[i]+offsetY)%512\n",
    "    return x,y"
   ]
  },
  {
   "cell_type": "code",
   "execution_count": null,
   "metadata": {},
   "outputs": [],
   "source": [
    "import cv2\n",
    "\n",
    "# image_name = input(\"Enter Cover Image Name: \")\n",
    "image_name = \"lena_gray.bmp\"\n",
    "image = cv2.imread(image_name, 0)\n"
   ]
  },
  {
   "cell_type": "markdown",
   "metadata": {},
   "source": [
    "Creating Secret Data from the Secret Image"
   ]
  },
  {
   "cell_type": "code",
   "execution_count": null,
   "metadata": {},
   "outputs": [],
   "source": [
    "secret_image = \"lena_secret.bmp\"\n",
    "secretImage = cv2.imread(image_name, 0)\n",
    "\n",
    "b = bytearray(secretImage)\n",
    "\n",
    "secretData = \"\"\n",
    "\n",
    "for i in b:\n",
    "    secretData = secretData + str(conversions.int2binary(i))\n",
    "\n",
    "secretFile = open(\"secret.txt\", 'w')\n",
    "secretFile.write(secretData)\n",
    "\n"
   ]
  },
  {
   "cell_type": "code",
   "execution_count": null,
   "metadata": {},
   "outputs": [],
   "source": [
    "\n",
    "def encodeImage(image,x,y,sbDir,sbPole):\n",
    "    secretDataIndex=0\n",
    "    if sbDir==1:\n",
    "        if sbPole==1:\n",
    "            for i in range(512*512):\n",
    "                r = conversions.int2binary(image[x[i]][y[i]])\n",
    "                image[x[i]][y[i]] = int(\n",
    "                    r[:-3] + str(1-int(secretData[secretDataIndex+2])) + str(1-int(secretData[secretDataIndex+1])) + str(1-int(secretData[secretDataIndex])), 2)\n",
    "                secretDataIndex = secretDataIndex+3\n",
    "        else:\n",
    "            for i in range(512*512):\n",
    "                r = conversions.int2binary(image[x[i]][y[i]])\n",
    "                image[x[i]][y[i]] = int(\n",
    "                    r[:-3] + str(secretData[secretDataIndex+2]) + str(secretData[secretDataIndex+1]) + str(secretData[secretDataIndex]), 2)\n",
    "                secretDataIndex = secretDataIndex+3\n",
    "    else:\n",
    "        if sbPole==1:\n",
    "            for i in range(512*512):\n",
    "                r = conversions.int2binary(image[x[i]][y[i]])\n",
    "                image[x[i]][y[i]] = int(\n",
    "                    r[:-3] + str(1-int(secretData[secretDataIndex])) + str(1-int(secretData[secretDataIndex+1])) + str(1-int(secretData[secretDataIndex+2])), 2)\n",
    "                secretDataIndex = secretDataIndex+3\n",
    "        else:\n",
    "            for i in range(512*512):\n",
    "                r = conversions.int2binary(image[x[i]][y[i]])\n",
    "                image[x[i]][y[i]] = int(\n",
    "                    r[:-3] + str(secretData[secretDataIndex]) + str(secretData[secretDataIndex+1]) + str(secretData[secretDataIndex+2]), 2)\n",
    "                secretDataIndex = secretDataIndex+3\n",
    "   \n",
    "    file_name = \"encoded_image.bmp\"\n",
    "    cv2.imwrite(file_name, image)\n",
    "\n",
    "    return cv2.imread(file_name, 0)"
   ]
  },
  {
   "cell_type": "code",
   "execution_count": null,
   "metadata": {},
   "outputs": [],
   "source": [
    "def encodeFunction(strr, image):\n",
    "    sbDir = strr[0]\n",
    "    sbPole = strr[1]\n",
    "    yValue = strr[2:11]\n",
    "    xValue = strr[11:20]\n",
    "\n",
    "    xOff = int(xValue,2)\n",
    "    yOff = int(yValue,2)\n",
    "    x, y = hilbert.genHilbert(512, 512)\n",
    "    x,y=genPoint(xOff,yOff,x,y)\n",
    "    stegoImage = encodeImage(image, x,y,int(sbDir),int(sbPole))\n",
    "\n",
    "    return stegoImage"
   ]
  },
  {
   "cell_type": "code",
   "execution_count": null,
   "metadata": {},
   "outputs": [],
   "source": [
    "def decodeImage(image,x,y,sbDir,sbPole):\n",
    "    secretData = \"\"\n",
    "    cnt=0\n",
    "    if sbDir==1:\n",
    "        if sbPole==1:\n",
    "            for i in range(512*512):\n",
    "                r = conversions.int2binary(image[x[i]][y[i]])\n",
    "                secretData+=str(1-int(r[7])) + str(1-int(r[6]))+str(1-int(r[5]))\n",
    "        else:\n",
    "            for i in range(512*512):\n",
    "                r = conversions.int2binary(image[x[i]][y[i]])\n",
    "                secretData+= str(r[7]) + str(r[6])+str(r[5])\n",
    "    else:\n",
    "        if sbPole==1:\n",
    "            for i in range(512*512):\n",
    "                r = conversions.int2binary(image[x[i]][y[i]])\n",
    "                secretData+=str(1-int(r[5])) + str(1-int(r[6]))+str(1-int(r[7]))\n",
    "        else:\n",
    "            for i in range(512*512):\n",
    "                r = conversions.int2binary(image[x[i]][y[i]])\n",
    "                secretData+=str(r[5])+str(r[6])+str(r[7])\n",
    "    secretFile = open(\"decodedData.txt\", 'w')\n",
    "    secretFile.write(secretData)"
   ]
  },
  {
   "cell_type": "code",
   "execution_count": null,
   "metadata": {},
   "outputs": [],
   "source": [
    "def decodeFunction(strr, image):\n",
    "    sbDir = strr[0]\n",
    "    sbPole = strr[1]\n",
    "    yValue = strr[2:11]\n",
    "    xValue = strr[11:20]\n",
    "\n",
    "    xOff = int(xValue,2)\n",
    "    yOff = int(yValue,2)\n",
    "    x, y = hilbert.genHilbert(512, 512)\n",
    "    x,y=genPoint(xOff,yOff,x,y)\n",
    "    decodeImage(image,x,y,sbDir,sbPole)\n",
    "    "
   ]
  },
  {
   "cell_type": "markdown",
   "metadata": {},
   "source": [
    "Generating Initial Population For Genetic"
   ]
  },
  {
   "cell_type": "code",
   "execution_count": null,
   "metadata": {},
   "outputs": [],
   "source": [
    "# it = 4\n",
    "\n",
    "# mainPopulation = population.genPopulation(4)\n",
    "\n",
    "# print(mainPopulation)\n",
    "# fitnessArray = []*it\n",
    "\n",
    "\n",
    "# for i in range(it):\n",
    "#     print(\"Parent - \", i)\n",
    "image = cv2.imread(image_name, 0)\n",
    "stegoImage = encodeFunction(\"00000000000000000000\",image)\n",
    "originalImage = cv2.imread(image_name, 0)\n",
    "print(psnr.computeFitness(512, originalImage, stegoImage))\n",
    "decodeFunction(\"00000000000000000000\",stegoImage)\n",
    "\n",
    "# print(fitnessArray)\n",
    "\n"
   ]
  },
  {
   "cell_type": "code",
   "execution_count": null,
   "metadata": {},
   "outputs": [],
   "source": []
  },
  {
   "cell_type": "code",
   "execution_count": null,
   "metadata": {},
   "outputs": [],
   "source": []
  }
 ],
 "metadata": {
  "kernelspec": {
   "display_name": "Python 3.10.0 64-bit",
   "language": "python",
   "name": "python3"
  },
  "language_info": {
   "codemirror_mode": {
    "name": "ipython",
    "version": 3
   },
   "file_extension": ".py",
   "mimetype": "text/x-python",
   "name": "python",
   "nbconvert_exporter": "python",
   "pygments_lexer": "ipython3",
   "version": "3.10.0"
  },
  "orig_nbformat": 4,
  "vscode": {
   "interpreter": {
    "hash": "369f2c481f4da34e4445cda3fffd2e751bd1c4d706f27375911949ba6bb62e1c"
   }
  }
 },
 "nbformat": 4,
 "nbformat_minor": 2
}
