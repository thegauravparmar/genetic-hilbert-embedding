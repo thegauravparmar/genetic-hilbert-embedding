{
 "cells": [
  {
   "cell_type": "code",
   "execution_count": 1,
   "metadata": {},
   "outputs": [],
   "source": [
    "import hilbert\n",
    "import conversions\n",
    "import population\n"
   ]
  },
  {
   "cell_type": "code",
   "execution_count": 2,
   "metadata": {},
   "outputs": [],
   "source": [
    "x, y = hilbert.genHilbert(4, 4)"
   ]
  },
  {
   "cell_type": "code",
   "execution_count": 3,
   "metadata": {},
   "outputs": [],
   "source": [
    "def genPoint(offsetX,offsetY):\n",
    "    for i in range(16):\n",
    "        x[i]=(x[i]+offsetX)%4\n",
    "    for i in range(16):\n",
    "        y[i]=(y[i]+offsetY)%4\n",
    "    return x,y"
   ]
  },
  {
   "cell_type": "code",
   "execution_count": 4,
   "metadata": {},
   "outputs": [
    {
     "name": "stdout",
     "output_type": "stream",
     "text": [
      "[2, 3, 3, 2, 2, 2, 3, 3, 0, 0, 1, 1, 1, 0, 0, 1]\n",
      "\n",
      "[1, 1, 2, 2, 3, 0, 0, 3, 3, 0, 0, 3, 2, 2, 1, 1]\n"
     ]
    }
   ],
   "source": [
    "x,y=genPoint(2,1)\n",
    "print(x)\n",
    "print()\n",
    "print(y)"
   ]
  },
  {
   "cell_type": "code",
   "execution_count": 5,
   "metadata": {},
   "outputs": [],
   "source": [
    "import cv2\n",
    "\n",
    "# image_name = input(\"Enter Cover Image Name: \")\n",
    "image_name = \"lena_gray.bmp\"\n",
    "image = cv2.imread(image_name, 0)\n"
   ]
  },
  {
   "cell_type": "markdown",
   "metadata": {},
   "source": [
    "Creating Secret Data from the Secret Image"
   ]
  },
  {
   "cell_type": "code",
   "execution_count": 6,
   "metadata": {},
   "outputs": [
    {
     "data": {
      "text/plain": [
       "2097152"
      ]
     },
     "execution_count": 6,
     "metadata": {},
     "output_type": "execute_result"
    }
   ],
   "source": [
    "secret_image = \"lena_secret.bmp\"\n",
    "secretImage = cv2.imread(image_name, 0)\n",
    "\n",
    "b = bytearray(secretImage)\n",
    "\n",
    "secretData = \"\"\n",
    "\n",
    "for i in b:\n",
    "    secretData = secretData + str(conversions.int2binary(i))\n",
    "\n",
    "secretFile = open(\"secret.txt\", 'w')\n",
    "secretFile.write(secretData)\n",
    "\n"
   ]
  },
  {
   "cell_type": "markdown",
   "metadata": {},
   "source": [
    "Generating Initial Population For Genetic"
   ]
  },
  {
   "cell_type": "code",
   "execution_count": 7,
   "metadata": {},
   "outputs": [
    {
     "name": "stdout",
     "output_type": "stream",
     "text": [
      "['00101111001101000110', '01001000001111100110', '01101000000000111011', '11110000101010110101']\n"
     ]
    }
   ],
   "source": [
    "initPop = population.genPopulation(4)\n",
    "\n",
    "print(initPop)"
   ]
  }
 ],
 "metadata": {
  "kernelspec": {
   "display_name": "Python 3.9.1 64-bit",
   "language": "python",
   "name": "python3"
  },
  "language_info": {
   "codemirror_mode": {
    "name": "ipython",
    "version": 3
   },
   "file_extension": ".py",
   "mimetype": "text/x-python",
   "name": "python",
   "nbconvert_exporter": "python",
   "pygments_lexer": "ipython3",
   "version": "3.9.1"
  },
  "orig_nbformat": 4,
  "vscode": {
   "interpreter": {
    "hash": "3efaab7a4ef3a4bcd4f02e96440a9fcf7da7668ad22da6ff108089192f5d1c62"
   }
  }
 },
 "nbformat": 4,
 "nbformat_minor": 2
}
