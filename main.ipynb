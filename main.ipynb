{
 "cells": [
  {
   "cell_type": "code",
   "execution_count": 69,
   "metadata": {},
   "outputs": [],
   "source": [
    "import hilbert\n",
    "\n",
    "x, y = hilbert.genHilbert(4, 4)"
   ]
  },
  {
   "cell_type": "code",
   "execution_count": 70,
   "metadata": {},
   "outputs": [
    {
     "name": "stdout",
     "output_type": "stream",
     "text": [
      "[0, 1, 1, 0, 0, 0, 1, 1, 2, 2, 3, 3, 3, 2, 2, 3]\n",
      "\n",
      "[0, 0, 1, 1, 2, 3, 3, 2, 2, 3, 3, 2, 1, 1, 0, 0]\n"
     ]
    }
   ],
   "source": [
    "print(x)\n",
    "print()\n",
    "print(y)"
   ]
  },
  {
   "cell_type": "code",
   "execution_count": 71,
   "metadata": {},
   "outputs": [],
   "source": [
    "def genPoint(offsetX,offsetY):\n",
    "    for i in range(16):\n",
    "        x[i]=(x[i]+offsetX)%4\n",
    "    for i in range(16):\n",
    "        y[i]=(y[i]+offsetY)%4\n",
    "    return x,y"
   ]
  },
  {
   "cell_type": "code",
   "execution_count": 72,
   "metadata": {},
   "outputs": [
    {
     "name": "stdout",
     "output_type": "stream",
     "text": [
      "[2, 3, 3, 2, 2, 2, 3, 3, 0, 0, 1, 1, 1, 0, 0, 1]\n",
      "\n",
      "[1, 1, 2, 2, 3, 0, 0, 3, 3, 0, 0, 3, 2, 2, 1, 1]\n"
     ]
    }
   ],
   "source": [
    "x,y=genPoint(2,1)\n",
    "print(x)\n",
    "print()\n",
    "print(y)"
   ]
  }
 ],
 "metadata": {
  "kernelspec": {
   "display_name": "Python 3.10.0 64-bit",
   "language": "python",
   "name": "python3"
  },
  "language_info": {
   "codemirror_mode": {
    "name": "ipython",
    "version": 3
   },
   "file_extension": ".py",
   "mimetype": "text/x-python",
   "name": "python",
   "nbconvert_exporter": "python",
   "pygments_lexer": "ipython3",
   "version": "3.10.0"
  },
  "orig_nbformat": 4,
  "vscode": {
   "interpreter": {
    "hash": "369f2c481f4da34e4445cda3fffd2e751bd1c4d706f27375911949ba6bb62e1c"
   }
  }
 },
 "nbformat": 4,
 "nbformat_minor": 2
}
